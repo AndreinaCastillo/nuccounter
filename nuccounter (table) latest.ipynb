{
 "cells": [
  {
   "cell_type": "code",
   "execution_count": 1,
   "metadata": {
    "collapsed": false
   },
   "outputs": [
    {
     "data": {
      "text/html": [
       "<script>requirejs.config({paths: { 'plotly': ['https://cdn.plot.ly/plotly-latest.min']},});if(!window.Plotly) {{require(['plotly'],function(plotly) {window.Plotly=plotly;});}}</script>"
      ],
      "text/plain": [
       "<IPython.core.display.HTML object>"
      ]
     },
     "metadata": {},
     "output_type": "display_data"
    }
   ],
   "source": [
    "####Import library\n",
    "import fileinput\n",
    "#import os, sys\n",
    "import glob, os, sys\n",
    "import collections\n",
    "import itertools\n",
    "from os.path import basename\n",
    "from operator import itemgetter\n",
    "from itertools import islice\n",
    "from itertools import groupby\n",
    "import numpy as np\n",
    "from plotly import __version__\n",
    "from plotly.offline import download_plotlyjs, init_notebook_mode, plot, iplot\n",
    "from plotly.graph_objs import Bar, Scatter, Figure, Layout\n",
    "init_notebook_mode(connected=True)"
   ]
  },
  {
   "cell_type": "code",
   "execution_count": 2,
   "metadata": {
    "collapsed": true
   },
   "outputs": [],
   "source": [
    "####Global variable \n",
    "window_size = 200"
   ]
  },
  {
   "cell_type": "code",
   "execution_count": 3,
   "metadata": {
    "collapsed": true
   },
   "outputs": [],
   "source": [
    "###File input/path\n",
    "\n",
    "#fasta_line_source = fileinput.FileInput(os.path.expanduser('Plasmodium_chabaudi_chabaudi_strain_AS.faa'))\n",
    "#fasta_line_source = fileinput.FileInput(os.path.expanduser('Plasmodium_chabaudi_chabaudi_TEST2.faa'))\n",
    "#fasta_line_source = fileinput.FileInput(os.path.expanduser('Plasmodium_falciparum_IT.faa'))\n",
    "#fasta_line_source = fileinput.FileInput(os.path.expanduser('contigSrtPlasmoDBberghei'))\n",
    "#fasta_line_source = fileinput.FileInput(os.path.expanduser('contigSrtPlasmoDBreichenowiCDC'))\n",
    "#fasta_line_source = fileinput.FileInput(os.path.expanduser('coatchrom1.faa'))\n",
    "#fasta_line_source = fileinput.FileInput(os.path.expanduser('4chrco.faa'))\n",
    "fasta_line_source = fileinput.FileInput(os.path.expanduser('Plasmodium_inui_San_Antonio_test3.faa'))\n",
    "#fasta_line_source = fileinput.FileInput(os.path.expanduser('test_new.fasta'))"
   ]
  },
  {
   "cell_type": "code",
   "execution_count": 4,
   "metadata": {
    "collapsed": true
   },
   "outputs": [],
   "source": [
    "###Change file name and extension from path to be later used in output\n",
    "\n",
    "file_name = (os.path.splitext('Plasmodium_inui_San_Antonio_test3.faa')[0])\n",
    "#file_name = (os.path.splitext('test_new.fasta')[0])\n",
    "file_name = file_name + '_out.txt'\n",
    "#print(file_name)"
   ]
  },
  {
   "cell_type": "code",
   "execution_count": 5,
   "metadata": {
    "collapsed": true
   },
   "outputs": [],
   "source": [
    "###Read each line on the input file and splits sequence headers and sequenced (es a string) into a dictionary\n",
    "\n",
    "def lines_to_contigs(lines):\n",
    "    contig_dictionary = None\n",
    "    current_contig_name = None    \n",
    "    current_contig_sequence = []\n",
    "    lines_with_eof_token = itertools.chain(lines, ['>EOF'])\n",
    "    for line in lines_with_eof_token:\n",
    "        if line.startswith('>'):\n",
    "            #print('line: {}'.format(line))\n",
    "            if current_contig_name:\n",
    "                #print(line)\n",
    "                #print('current_contig_name: {}'.format(current_contig_name))\n",
    "                contig_sequence_string = ''.join(current_contig_sequence)\n",
    "                contig_sequence_string = contig_sequence_string.upper( )\n",
    "                contig_dictionary = {'name' : current_contig_name, 'sequence' : contig_sequence_string}\n",
    "                yield contig_dictionary\n",
    "                current_contig_sequence = []\n",
    "            current_contig_name = line[1:].strip()\n",
    "        else:  \n",
    "            current_contig_sequence.append(line.strip())\n",
    "            \n",
    "generator_lines_to_contigs = lines_to_contigs(fasta_line_source)\n",
    "# for i in generator_lines_to_contigs:\n",
    "#     print(i)"
   ]
  },
  {
   "cell_type": "code",
   "execution_count": 6,
   "metadata": {
    "collapsed": true
   },
   "outputs": [],
   "source": [
    "###Splits sequence from a string to a tuple. Each nucleotide is separately listed on the tuple\n",
    "\n",
    "def sequence_split(contigs_iterator):\n",
    "    for contig in contigs_iterator:\n",
    "        yield {'name': contig['name'], 'sequence': tuple(contig['sequence'])}\n",
    "\n",
    "nucleotides2 = sequence_split(lines_to_contigs(fasta_line_source))\n",
    "# for i in nucleotides2:\n",
    "#     print(i)"
   ]
  },
  {
   "cell_type": "code",
   "execution_count": 7,
   "metadata": {
    "collapsed": true
   },
   "outputs": [],
   "source": [
    "###Groups A and T into AT, and C and G into GC. Other nucleotides (including ambiguous characters are added to their own category) \n",
    "\n",
    "def group_nucleotides(nucleotide_seqs):\n",
    "    nucleotide_group_map = {'A': 'AT','T': 'AT','G': 'GC','C': 'GC','N': 'N','X': 'X', \n",
    "                            'M':'M','R':'R','Y':'Y','S':'S','W':'W','K':'K','B':'B','V':'V','D':'D','H':'H'}\n",
    "    for nucleotide_seq in nucleotide_seqs:\n",
    "        nucleotide_groups = (nucleotide_group_map[base] for base in nucleotide_seq['sequence'])\n",
    "        yield {'name': nucleotide_seq['name'], 'sequence': nucleotide_groups}\n",
    "\n",
    "nucleotides_seq = group_nucleotides(sequence_split(lines_to_contigs(fasta_line_source)))\n",
    "# for i in nucleotides_seq:\n",
    "#     print(list(islice(i['sequence'], 10)))"
   ]
  },
  {
   "cell_type": "code",
   "execution_count": 8,
   "metadata": {
    "collapsed": true
   },
   "outputs": [],
   "source": [
    "### Creates a sliding window (size of the window is a global variable). \n",
    "### Calculates %AT, %GC, %N and %X inside the window. It also calculates %of ambiguous nucleotides if found.\n",
    "### After first window, the first nucleotide inside the window is droped and the next in the sequence is added. \n",
    "### counter updates to discount the removed nucleotide and count the new nucleotide\n",
    "### Percentages are recalculated.\n",
    "### Each window is yielded to a dictionary.\n",
    "\n",
    "def sliding_percentages(nucleos, window_size, unique_nucleotides):\n",
    "    for nucleo in nucleos:\n",
    "        sliding_window = collections.deque(itertools.islice(nucleo['sequence'], window_size), maxlen=window_size)\n",
    "        counter = collections.Counter({nucleotides: 0 for nucleotides in unique_nucleotides}) \n",
    "        counter.update(sliding_window)\n",
    "        window_percentage = {nucleotides: (counter / window_size)*100 for nucleotides, counter in counter.items()}\n",
    "        w_start=0\n",
    "        for base in nucleo['sequence']:\n",
    "            w_start = w_start+1\n",
    "            itertools.islice(nucleo['sequence'], window_size, None)\n",
    "            trailing_nucleotide = sliding_window.popleft()\n",
    "            counter.subtract([trailing_nucleotide])\n",
    "            w_end = w_start+window_size\n",
    "            sliding_window.append(base)\n",
    "            counter.update([base])\n",
    "            window_percentage = {nucleotides: (counter / window_size)*100 for nucleotides, counter in counter.items()}\n",
    "            yield {'name': nucleo['name'], 'sequence': window_percentage, 'start': w_start, 'end': w_end}\n",
    "        \n",
    "nucleotides4 = sliding_percentages(group_nucleotides(sequence_split(lines_to_contigs(fasta_line_source))),window_size,('AT', 'GC', 'N', 'X'))\n",
    "# for i in nucleotides4:\n",
    "#     print(i)"
   ]
  },
  {
   "cell_type": "code",
   "execution_count": 9,
   "metadata": {
    "collapsed": true
   },
   "outputs": [],
   "source": [
    "### Turns all values calculated on the previous function and found on the dictionary into list\n",
    "### Output list as a tab delimited format into a .txt file\n",
    "\n",
    "def contig_list_creator(nucleos):    \n",
    "    iterator_list = [] \n",
    "    for nucleo in nucleos:\n",
    "        dictio = {'name': nucleo['name'],'sequence': nucleo['sequence'], 'start': nucleo['start'], 'end': nucleo['end']} \n",
    "        name = nucleo['name']\n",
    "        start = nucleo['start']\n",
    "        end = nucleo['end']\n",
    "\n",
    "        iterator_list.append(dictio.copy())        \n",
    "\n",
    "    \n",
    "    sorted_iterator_list = sorted(iterator_list, key=itemgetter('name'))\n",
    "    for key, group in itertools.groupby(sorted_iterator_list, key=lambda x:x['name']):\n",
    "        contig_iterator_list = list(group)\n",
    "        #print(contig_iterator_list)\n",
    "        \n",
    "        new_AT = []\n",
    "        new_GC = []\n",
    "        new_N = []\n",
    "        new_X = []\n",
    "        list_w_start = []\n",
    "        list_w_end = []\n",
    "        name = key\n",
    "                \n",
    "        for contig in contig_iterator_list:\n",
    "            AT = contig['sequence']['AT'] \n",
    "            GC = contig['sequence']['GC']\n",
    "            N = contig['sequence']['N']\n",
    "            X = contig['sequence']['X']\n",
    "            start = contig['start']\n",
    "            end = contig['end']\n",
    "            #print(start)\n",
    "            #print(GC)\n",
    "        \n",
    "            new_AT.append(AT)\n",
    "            new_GC.append(GC)\n",
    "            new_N.append(N)\n",
    "            new_X.append(X)\n",
    "            list_w_start.append(start)\n",
    "            list_w_end.append(end)\n",
    "                        \n",
    "        #print(new_GC)\n",
    "        #print(list_w_start)\n",
    "            \n",
    "        position_new_AT = np.asarray(new_AT)\n",
    "        position_new_GC = np.asarray(new_GC)\n",
    "        position_new_N = np.asarray(new_N)\n",
    "        position_new_X = np.asarray(new_X)\n",
    "        #print(position_new_GC)\n",
    "        \n",
    "        \n",
    "        list_of_contig_names = []\n",
    "        xle = len(position_new_X)\n",
    "        for n in range(xle):\n",
    "            list_of_contig_names.append(name)\n",
    "        #print(list_of_contig_names)\n",
    "               \n",
    "        #calc_out_file = open('OUT2.txt', 'a')\n",
    "        \n",
    "        calc_out_file = open(file_name, 'a')\n",
    "        calc_out_file.writelines('#Chromosome/contig name, window_start_position, window_end_position, %AT, %GC, %N, %X' +'\\n')\n",
    "        out_list = []\n",
    "        for a, b, c, d, e, f, g in zip(list_of_contig_names, list_w_start, list_w_end, position_new_AT, position_new_GC, position_new_N, position_new_X):\n",
    "            all_info = (a,str(b),str(c),str(d),str(e),str(f),str(g))\n",
    "            out_list.append(all_info)\n",
    "        calc_out_file.writelines('\\t'.join(i) + '\\n' for i in out_list)        \n",
    "        #calc_out_file = open('OUT.txt', 'r')\n",
    "        #print (calc_out_file.read())\n",
    "        \n",
    "    calc_out_file.close()\n",
    "                \n",
    "    return\n",
    "\n",
    "contig_list_creator(nucleotides4)"
   ]
  }
 ],
 "metadata": {
  "anaconda-cloud": {},
  "kernelspec": {
   "display_name": "Python [conda env:py35]",
   "language": "python",
   "name": "conda-env-py35-py"
  },
  "language_info": {
   "codemirror_mode": {
    "name": "ipython",
    "version": 3
   },
   "file_extension": ".py",
   "mimetype": "text/x-python",
   "name": "python",
   "nbconvert_exporter": "python",
   "pygments_lexer": "ipython3",
   "version": "3.5.2"
  }
 },
 "nbformat": 4,
 "nbformat_minor": 1
}
